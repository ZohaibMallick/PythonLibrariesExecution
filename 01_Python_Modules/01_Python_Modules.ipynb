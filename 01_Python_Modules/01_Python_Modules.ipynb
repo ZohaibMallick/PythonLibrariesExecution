{
 "cells": [
  {
   "cell_type": "markdown",
   "id": "07385527-ba5a-49eb-a365-be30d05bb9c5",
   "metadata": {},
   "source": [
    "### 1. Using `sys` Module\n",
    "The `sys` module provides access to some variables and functions that interact with the Python interpreter.\n"
   ]
  },
  {
   "cell_type": "code",
   "execution_count": 4,
   "id": "1f292327-6d10-40ac-92e0-77fb109a1ecb",
   "metadata": {},
   "outputs": [
    {
     "name": "stdout",
     "output_type": "stream",
     "text": [
      "Python version: 3.11.7 | packaged by Anaconda, Inc. | (main, Dec 15 2023, 18:05:47) [MSC v.1916 64 bit (AMD64)]\n",
      "Command line arguments: ['C:\\\\Users\\\\Zohaib\\\\anaconda3\\\\Lib\\\\site-packages\\\\ipykernel_launcher.py', '-f', 'C:\\\\Users\\\\Zohaib\\\\AppData\\\\Roaming\\\\jupyter\\\\runtime\\\\kernel-21e3232d-e505-4dd4-8620-6590ab0ed7a2.json']\n",
      "Usage: python 01.ipynb <name>\n"
     ]
    },
    {
     "ename": "SystemExit",
     "evalue": "1",
     "output_type": "error",
     "traceback": [
      "An exception has occurred, use %tb to see the full traceback.\n",
      "\u001b[1;31mSystemExit\u001b[0m\u001b[1;31m:\u001b[0m 1\n"
     ]
    }
   ],
   "source": [
    "import sys\n",
    "\n",
    "def sys_example():\n",
    "    # Print Python version\n",
    "    print(\"Python version:\", sys.version)\n",
    "\n",
    "    # Print command line arguments\n",
    "    print(\"Command line arguments:\", sys.argv)\n",
    "\n",
    "    # Exit the program\n",
    "    if len(sys.argv) != 2:\n",
    "        print(\"Usage: python 01.ipynb <name>\")\n",
    "        sys.exit(1)\n",
    "\n",
    "    name = sys.argv[1]\n",
    "    print(f\"Hello, {name}!\")\n",
    "\n",
    "if __name__ == \"__main__\":\n",
    "    sys_example()\n"
   ]
  },
  {
   "cell_type": "markdown",
   "id": "4d78acdf-fffc-4bea-a4e3-7dd26c1880e7",
   "metadata": {},
   "source": [
    "### 2. Using `os` Module\n",
    "The `os` module provides a way of using operating system-dependent functionality.\n"
   ]
  },
  {
   "cell_type": "code",
   "execution_count": 6,
   "id": "46490ab1-c853-4edb-8c07-d99401d99e04",
   "metadata": {},
   "outputs": [
    {
     "name": "stdout",
     "output_type": "stream",
     "text": [
      "Current Working Directory: C:\\Users\\Zohaib\\Desktop\\PythonProject\\Assignment\n",
      "Files in Directory:\n",
      ".ipynb_checkpoints\n",
      "01.ipynb\n",
      "PizaaOrderUML_Diagram.png\n",
      "PizzaBuilderDesignPattern.py\n",
      "Directory 'test_directory' created\n",
      "Directory 'test_directory' removed\n"
     ]
    }
   ],
   "source": [
    "import os\n",
    "\n",
    "def os_example():\n",
    "    # Get the current working directory\n",
    "    cwd = os.getcwd()\n",
    "    print(\"Current Working Directory:\", cwd)\n",
    "\n",
    "    # List files in the current directory\n",
    "    files = os.listdir(cwd)\n",
    "    print(\"Files in Directory:\")\n",
    "    for file in files:\n",
    "        print(file)\n",
    "\n",
    "    # Create a new directory\n",
    "    new_dir = 'test_directory'\n",
    "    os.makedirs(new_dir, exist_ok=True)\n",
    "    print(f\"Directory '{new_dir}' created\")\n",
    "\n",
    "    # Remove the directory\n",
    "    os.rmdir(new_dir)\n",
    "    print(f\"Directory '{new_dir}' removed\")\n",
    "\n",
    "if __name__ == \"__main__\":\n",
    "    os_example()\n"
   ]
  },
  {
   "cell_type": "markdown",
   "id": "2bb6a3a2-c655-4573-963e-0fce31f17a84",
   "metadata": {},
   "source": [
    "### 3. Using `pickle` Module\n",
    "The `pickle` module serializes and deserializes Python objects.\n"
   ]
  },
  {
   "cell_type": "code",
   "execution_count": 7,
   "id": "31bcea0c-7b57-4ec0-aa10-046facc620d5",
   "metadata": {},
   "outputs": [
    {
     "name": "stdout",
     "output_type": "stream",
     "text": [
      "Loaded Data: {'name': 'John', 'age': 30, 'city': 'New York'}\n"
     ]
    }
   ],
   "source": [
    "import pickle\n",
    "\n",
    "def pickle_example():\n",
    "    data = {'name': 'John', 'age': 30, 'city': 'New York'}\n",
    "\n",
    "    # Serialize data to a file\n",
    "    with open('data.pkl', 'wb') as file:\n",
    "        pickle.dump(data, file)\n",
    "\n",
    "    # Deserialize data from the file\n",
    "    with open('data.pkl', 'rb') as file:\n",
    "        loaded_data = pickle.load(file)\n",
    "\n",
    "    print(\"Loaded Data:\", loaded_data)\n",
    "\n",
    "if __name__ == \"__main__\":\n",
    "    pickle_example()\n"
   ]
  },
  {
   "cell_type": "markdown",
   "id": "19aa1a0b-2cb0-4dc3-8c07-d1923aa400f4",
   "metadata": {},
   "source": [
    "### 4. Using `json` Module\n",
    "The `json` module provides methods for serializing and deserializing JSON data.\n"
   ]
  },
  {
   "cell_type": "code",
   "execution_count": 8,
   "id": "ba71b60e-77f3-4fa1-8626-cfcfda1ef802",
   "metadata": {},
   "outputs": [
    {
     "name": "stdout",
     "output_type": "stream",
     "text": [
      "Loaded Data: {'name': 'Jane', 'age': 25, 'city': 'London'}\n"
     ]
    }
   ],
   "source": [
    "import json\n",
    "\n",
    "def json_example():\n",
    "    data = {'name': 'Jane', 'age': 25, 'city': 'London'}\n",
    "\n",
    "    # Serialize data to a JSON file\n",
    "    with open('data.json', 'w') as file:\n",
    "        json.dump(data, file, indent=4)\n",
    "\n",
    "    # Deserialize data from the JSON file\n",
    "    with open('data.json', 'r') as file:\n",
    "        loaded_data = json.load(file)\n",
    "\n",
    "    print(\"Loaded Data:\", loaded_data)\n",
    "\n",
    "if __name__ == \"__main__\":\n",
    "    json_example()\n"
   ]
  },
  {
   "cell_type": "markdown",
   "id": "c4c81adb-e498-4549-b708-e8d1ccd2576a",
   "metadata": {},
   "source": [
    "### 5. Using `time` Module\n",
    "The `time` module provides time-related functions.\n"
   ]
  },
  {
   "cell_type": "code",
   "execution_count": 9,
   "id": "ae285c1c-59f4-4e48-bbf5-8059d271d9e3",
   "metadata": {},
   "outputs": [
    {
     "name": "stdout",
     "output_type": "stream",
     "text": [
      "Current Time (epoch): 1727870197.833275\n",
      "Sleeping for 2 seconds...\n",
      "Awoke!\n"
     ]
    }
   ],
   "source": [
    "import time\n",
    "\n",
    "def time_example():\n",
    "    # Get the current time\n",
    "    current_time = time.time()\n",
    "    print(\"Current Time (epoch):\", current_time)\n",
    "\n",
    "    # Sleep for 2 seconds\n",
    "    print(\"Sleeping for 2 seconds...\")\n",
    "    time.sleep(2)\n",
    "    print(\"Awoke!\")\n",
    "\n",
    "if __name__ == \"__main__\":\n",
    "    time_example()\n"
   ]
  },
  {
   "cell_type": "markdown",
   "id": "687e7b18-4b0f-49c8-a46a-9d8419fd79e3",
   "metadata": {},
   "source": [
    "### 6. Using `datetime` Module\n",
    "The `datetime` module provides classes for manipulating dates and times.\n"
   ]
  },
  {
   "cell_type": "code",
   "execution_count": 10,
   "id": "bb7e92a8-5656-42c1-a17f-b335a355ab76",
   "metadata": {},
   "outputs": [
    {
     "name": "stdout",
     "output_type": "stream",
     "text": [
      "Current Date and Time: 2024-10-02 17:27:11.041388\n",
      "Formatted Date and Time: 2024-10-02 17:27:11\n",
      "Future Date (after 5 days): 2024-10-07 17:27:11.041388\n"
     ]
    }
   ],
   "source": [
    "from datetime import datetime, timedelta\n",
    "\n",
    "def datetime_example():\n",
    "    # Get current date and time\n",
    "    now = datetime.now()\n",
    "    print(\"Current Date and Time:\", now)\n",
    "\n",
    "    # Format date and time\n",
    "    formatted = now.strftime(\"%Y-%m-%d %H:%M:%S\")\n",
    "    print(\"Formatted Date and Time:\", formatted)\n",
    "\n",
    "    # Add 5 days to the current date\n",
    "    future_date = now + timedelta(days=5)\n",
    "    print(\"Future Date (after 5 days):\", future_date)\n",
    "\n",
    "if __name__ == \"__main__\":\n",
    "    datetime_example()\n"
   ]
  },
  {
   "cell_type": "markdown",
   "id": "d2dfd131-a523-477c-a02c-e27948180d48",
   "metadata": {},
   "source": [
    "### 7. File Handling\n",
    "This example demonstrates how to write to and read from a file in Python.\n"
   ]
  },
  {
   "cell_type": "code",
   "execution_count": 12,
   "id": "d0ccd9e9-3d45-4681-9e83-b2a48c6f779a",
   "metadata": {},
   "outputs": [
    {
     "name": "stdout",
     "output_type": "stream",
     "text": [
      "File Content:\n",
      "Hello, world!\n",
      "Welcome to Python file handling.\n"
     ]
    }
   ],
   "source": [
    "def file_handling_example():\n",
    "    filename = 'sample.txt'\n",
    "\n",
    "    # Write to a file\n",
    "    with open(filename, 'w') as file:\n",
    "        file.write('Hello, world!\\n')\n",
    "        file.write('Welcome to Python file handling.')\n",
    "\n",
    "    # Read from a file\n",
    "    with open(filename, 'r') as file:\n",
    "        content = file.read()\n",
    "        print(\"File Content:\")\n",
    "        print(content)\n",
    "\n",
    "if __name__ == \"__main__\":\n",
    "    file_handling_example()\n"
   ]
  },
  {
   "cell_type": "markdown",
   "id": "5fd30bf3-5daa-4bac-869a-21f26d84542d",
   "metadata": {},
   "source": [
    "### 8. Using `logging` Module\n",
    "The `logging` module provides a flexible framework for emitting log messages from Python programs.\n"
   ]
  },
  {
   "cell_type": "code",
   "execution_count": 15,
   "id": "1fdbffb0-72c6-4dc1-ad22-e835cbdbcc38",
   "metadata": {},
   "outputs": [],
   "source": [
    "import logging\n",
    "\n",
    "def logging_example():\n",
    "    # Configure the logger\n",
    "    logging.basicConfig(filename='example.log', level=logging.DEBUG, format='%(asctime)s - %(levelname)s - %(message)s')\n",
    "\n",
    "    # Log some messages\n",
    "    logging.debug('This is a debug message')\n",
    "    logging.info('This is an info message')\n",
    "    logging.warning('This is a warning message')\n",
    "    logging.error('This is an error message')\n",
    "    logging.critical('This is a critical message')\n",
    "\n",
    "if __name__ == \"__main__\":\n",
    "    logging_example()\n"
   ]
  },
  {
   "cell_type": "markdown",
   "id": "4cbd4a88-03fe-4118-895d-8a7930e77bac",
   "metadata": {},
   "source": [
    "### 9. Using `re` Module\n",
    "The `re` module provides support for regular expressions.\n"
   ]
  },
  {
   "cell_type": "code",
   "execution_count": 16,
   "id": "95fae077-4b2f-4f3a-8dd6-c8580fb992d8",
   "metadata": {},
   "outputs": [
    {
     "name": "stdout",
     "output_type": "stream",
     "text": [
      "Prices found: ['$25.99']\n",
      "Updated Text: The price of the product is $29.99 and the discount is 10%.\n"
     ]
    }
   ],
   "source": [
    "import re\n",
    "\n",
    "def re_example():\n",
    "    text = \"The price of the product is $25.99 and the discount is 10%.\"\n",
    "\n",
    "    # Find all prices\n",
    "    prices = re.findall(r'\\$\\d+\\.\\d+', text)\n",
    "    print(\"Prices found:\", prices)\n",
    "\n",
    "    # Replace price with a new value\n",
    "    updated_text = re.sub(r'\\$\\d+\\.\\d+', '$29.99', text)\n",
    "    print(\"Updated Text:\", updated_text)\n",
    "\n",
    "if __name__ == \"__main__\":\n",
    "    re_example()\n"
   ]
  },
  {
   "cell_type": "markdown",
   "id": "13d7f1d5-7587-4ef0-bb3b-cb73467c3cee",
   "metadata": {},
   "source": [
    "### 10. Using `numpy` Module\n",
    "The `numpy` library is used for numerical computations.\n"
   ]
  },
  {
   "cell_type": "code",
   "execution_count": 17,
   "id": "532c300e-c697-4fb2-95ba-82c5d6e3fafc",
   "metadata": {},
   "outputs": [
    {
     "name": "stdout",
     "output_type": "stream",
     "text": [
      "Numpy Array: [1 2 3 4 5]\n",
      "Squared Array: [ 1  4  9 16 25]\n",
      "Mean Value: 3.0\n"
     ]
    }
   ],
   "source": [
    "import numpy as np\n",
    "\n",
    "def numpy_example():\n",
    "    # Create a numpy array\n",
    "    array = np.array([1, 2, 3, 4, 5])\n",
    "    print(\"Numpy Array:\", array)\n",
    "\n",
    "    # Perform basic operations\n",
    "    array_squared = np.square(array)\n",
    "    print(\"Squared Array:\", array_squared)\n",
    "\n",
    "    # Calculate mean\n",
    "    mean_value = np.mean(array)\n",
    "    print(\"Mean Value:\", mean_value)\n",
    "\n",
    "if __name__ == \"__main__\":\n",
    "    numpy_example()\n"
   ]
  },
  {
   "cell_type": "markdown",
   "id": "e8581dad-01c6-495c-a058-fd402ef7f8f0",
   "metadata": {},
   "source": [
    "### 11. Using `pandas` Module\n",
    "The `pandas` library provides data structures for data manipulation and analysis.\n"
   ]
  },
  {
   "cell_type": "code",
   "execution_count": 18,
   "id": "bfdd6255-0066-4d90-9b69-0da7d3597bda",
   "metadata": {},
   "outputs": [
    {
     "name": "stdout",
     "output_type": "stream",
     "text": [
      "DataFrame:\n",
      "      Name  Age         City\n",
      "0    Alice   25     New York\n",
      "1      Bob   30  Los Angeles\n",
      "2  Charlie   35      Chicago\n",
      "\n",
      "Names:\n",
      "0      Alice\n",
      "1        Bob\n",
      "2    Charlie\n",
      "Name: Name, dtype: object\n",
      "\n",
      "Filtered DataFrame (Age > 30):\n",
      "      Name  Age     City\n",
      "2  Charlie   35  Chicago\n"
     ]
    }
   ],
   "source": [
    "import pandas as pd\n",
    "\n",
    "def pandas_example():\n",
    "    # Create a DataFrame\n",
    "    data = {\n",
    "        'Name': ['Alice', 'Bob', 'Charlie'],\n",
    "        'Age': [25, 30, 35],\n",
    "        'City': ['New York', 'Los Angeles', 'Chicago']\n",
    "    }\n",
    "    df = pd.DataFrame(data)\n",
    "    print(\"DataFrame:\")\n",
    "    print(df)\n",
    "\n",
    "    # Access specific columns\n",
    "    print(\"\\nNames:\")\n",
    "    print(df['Name'])\n",
    "\n",
    "    # Filter rows\n",
    "    filtered_df = df[df['Age'] > 30]\n",
    "    print(\"\\nFiltered DataFrame (Age > 30):\")\n",
    "    print(filtered_df)\n",
    "\n",
    "if __name__ == \"__main__\":\n",
    "    pandas_example()\n"
   ]
  },
  {
   "cell_type": "markdown",
   "id": "f9ed5875-d009-4bff-87e9-ff47ef09629c",
   "metadata": {},
   "source": [
    "# Md Zohaib Haque"
   ]
  },
  {
   "cell_type": "code",
   "execution_count": null,
   "id": "373e3c47-e286-436c-8ca8-785bd6d645cf",
   "metadata": {},
   "outputs": [],
   "source": []
  }
 ],
 "metadata": {
  "kernelspec": {
   "display_name": "Python 3 (ipykernel)",
   "language": "python",
   "name": "python3"
  },
  "language_info": {
   "codemirror_mode": {
    "name": "ipython",
    "version": 3
   },
   "file_extension": ".py",
   "mimetype": "text/x-python",
   "name": "python",
   "nbconvert_exporter": "python",
   "pygments_lexer": "ipython3",
   "version": "3.11.7"
  }
 },
 "nbformat": 4,
 "nbformat_minor": 5
}
