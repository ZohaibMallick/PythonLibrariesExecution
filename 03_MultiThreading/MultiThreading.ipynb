{
 "cells": [
  {
   "cell_type": "markdown",
   "id": "7d6a1a03-5030-4b3a-930c-8962495a35c6",
   "metadata": {},
   "source": [
    "# Md Zohaib Haque\n"
   ]
  },
  {
   "cell_type": "markdown",
   "id": "e09c9443-fdca-40db-8d93-c5aeeae17896",
   "metadata": {},
   "source": [
    "### 1. Creating a Thread\n",
    "Creating a thread involves instantiating a `Thread` object and starting it.\n"
   ]
  },
  {
   "cell_type": "code",
   "execution_count": 4,
   "id": "66e184e1-507e-4212-ad8e-d4120bc313cd",
   "metadata": {},
   "outputs": [
    {
     "name": "stdout",
     "output_type": "stream",
     "text": [
      "Worker thread is running\n",
      "Thread has finished\n"
     ]
    }
   ],
   "source": [
    "import threading\n",
    "\n",
    "def worker():\n",
    "    \"\"\"Thread worker function.\"\"\"\n",
    "    print(\"Worker thread is running\")\n",
    "\n",
    "if __name__ == '__main__':\n",
    "    # Create a thread\n",
    "    thread = threading.Thread(target=worker)\n",
    "    # Start the thread\n",
    "    thread.start()\n",
    "    # Wait for the thread to complete\n",
    "    thread.join()\n",
    "    print(\"Thread has finished\")\n"
   ]
  },
  {
   "cell_type": "markdown",
   "id": "772db6a7-0117-4de0-8b28-9a9e2f343647",
   "metadata": {},
   "source": [
    "### 2. Designing the Thread Functions & Passing Arguments\n",
    "You can design thread functions to accept arguments and use shared data structures for communication.\n"
   ]
  },
  {
   "cell_type": "code",
   "execution_count": 5,
   "id": "a2050165-972f-4046-825f-789bd7e8fc0f",
   "metadata": {},
   "outputs": [
    {
     "name": "stdout",
     "output_type": "stream",
     "text": [
      "Computed square: 0\n",
      "Computed square: 1\n",
      "Computed square: 4\n",
      "Computed square: 9\n",
      "Computed square: 16\n",
      "Results: [0, 1, 4, 9, 16]\n"
     ]
    }
   ],
   "source": [
    "import threading\n",
    "\n",
    "def compute_square(number, results):\n",
    "    \"\"\"Function to compute the square of a number.\"\"\"\n",
    "    result = number * number\n",
    "    results.append(result)\n",
    "    print(f\"Computed square: {result}\")\n",
    "\n",
    "if __name__ == '__main__':\n",
    "    results = []\n",
    "    \n",
    "    # Create and start threads\n",
    "    threads = []\n",
    "    for i in range(5):\n",
    "        thread = threading.Thread(target=compute_square, args=(i, results))\n",
    "        thread.start()\n",
    "        threads.append(thread)\n",
    "    \n",
    "    # Wait for all threads to complete\n",
    "    for thread in threads:\n",
    "        thread.join()\n",
    "    \n",
    "    print(f\"Results: {results}\")\n"
   ]
  },
  {
   "cell_type": "markdown",
   "id": "a82bba86-8115-47df-a168-ce8c46a0570b",
   "metadata": {},
   "source": [
    "### 3. Thread Synchronization – Mutex & Condition\n",
    "- **Mutex (Lock)**: Used to ensure that only one thread accesses a shared resource at a time.\n"
   ]
  },
  {
   "cell_type": "code",
   "execution_count": 6,
   "id": "28bc4bd2-3883-4489-9828-6bad238cd772",
   "metadata": {},
   "outputs": [
    {
     "name": "stdout",
     "output_type": "stream",
     "text": [
      "Final counter value: 10000\n"
     ]
    }
   ],
   "source": [
    "import threading\n",
    "\n",
    "def safe_increment(counter, lock):\n",
    "    \"\"\"Thread-safe increment function.\"\"\"\n",
    "    with lock:\n",
    "        for _ in range(1000):\n",
    "            counter[0] += 1\n",
    "\n",
    "if __name__ == '__main__':\n",
    "    counter = [0]\n",
    "    lock = threading.Lock()\n",
    "    \n",
    "    # Create and start threads\n",
    "    threads = [threading.Thread(target=safe_increment, args=(counter, lock)) for _ in range(10)]\n",
    "    for thread in threads:\n",
    "        thread.start()\n",
    "    \n",
    "    for thread in threads:\n",
    "        thread.join()\n",
    "    \n",
    "    print(f\"Final counter value: {counter[0]}\")\n"
   ]
  },
  {
   "cell_type": "markdown",
   "id": "86981780-5240-47f0-b53b-38cf627e30dd",
   "metadata": {},
   "source": [
    "- **Condition**: Allows threads to wait for some condition to be met before proceeding.\n"
   ]
  },
  {
   "cell_type": "code",
   "execution_count": 7,
   "id": "34c1b5ed-54ea-414b-b1f3-ab18e4b59652",
   "metadata": {},
   "outputs": [
    {
     "name": "stdout",
     "output_type": "stream",
     "text": [
      "Waiter is waiting\n",
      "Notifier has notified\n",
      "Waiter is notified\n"
     ]
    }
   ],
   "source": [
    "import threading\n",
    "import time\n",
    "\n",
    "condition = threading.Condition()\n",
    "flag = False\n",
    "\n",
    "def waiter():\n",
    "    \"\"\"Thread that waits for a condition to be met.\"\"\"\n",
    "    with condition:\n",
    "        print(\"Waiter is waiting\")\n",
    "        while not flag:\n",
    "            condition.wait()\n",
    "        print(\"Waiter is notified\")\n",
    "\n",
    "def notifier():\n",
    "    \"\"\"Thread that notifies the condition.\"\"\"\n",
    "    time.sleep(2)\n",
    "    with condition:\n",
    "        global flag\n",
    "        flag = True\n",
    "        condition.notify_all()\n",
    "        print(\"Notifier has notified\")\n",
    "\n",
    "if __name__ == '__main__':\n",
    "    t1 = threading.Thread(target=waiter)\n",
    "    t2 = threading.Thread(target=notifier)\n",
    "    \n",
    "    t1.start()\n",
    "    t2.start()\n",
    "    \n",
    "    t1.join()\n",
    "    t2.join()\n"
   ]
  },
  {
   "cell_type": "markdown",
   "id": "aa09822c-5fa8-4d12-aa16-363c3a9efa45",
   "metadata": {},
   "source": [
    "### 4. Thread Communication\n",
    "Threads can communicate through shared data structures, such as lists or queues.\n"
   ]
  },
  {
   "cell_type": "code",
   "execution_count": 8,
   "id": "ec6cd1d0-cb72-4aa5-b920-a6b954896693",
   "metadata": {},
   "outputs": [
    {
     "name": "stdout",
     "output_type": "stream",
     "text": [
      "Produced 0\n",
      "Produced 1\n",
      "Produced 2\n",
      "Produced 3\n",
      "Produced 4\n",
      "Consumed 0\n",
      "Consumed 1\n",
      "Consumed 2\n",
      "Consumed 3\n",
      "Consumed 4\n"
     ]
    }
   ],
   "source": [
    "import threading\n",
    "import queue\n",
    "\n",
    "def producer(q):\n",
    "    \"\"\"Function to produce data and put it in the queue.\"\"\"\n",
    "    for i in range(5):\n",
    "        q.put(i)\n",
    "        print(f\"Produced {i}\")\n",
    "\n",
    "def consumer(q):\n",
    "    \"\"\"Function to consume data from the queue.\"\"\"\n",
    "    while True:\n",
    "        item = q.get()\n",
    "        if item is None:\n",
    "            break\n",
    "        print(f\"Consumed {item}\")\n",
    "\n",
    "if __name__ == '__main__':\n",
    "    q = queue.Queue()\n",
    "    \n",
    "    producer_thread = threading.Thread(target=producer, args=(q,))\n",
    "    consumer_thread = threading.Thread(target=consumer, args=(q,))\n",
    "    \n",
    "    producer_thread.start()\n",
    "    consumer_thread.start()\n",
    "    \n",
    "    producer_thread.join()\n",
    "    q.put(None)  # Sentinel value to indicate the end of data\n",
    "    consumer_thread.join()\n"
   ]
  },
  {
   "cell_type": "markdown",
   "id": "cef38c6f-2c39-422f-ba71-409a235cd227",
   "metadata": {},
   "source": [
    "### 5. Thread Pools\n",
    "Thread Pools allow you to manage a pool of worker threads and assign tasks to them efficiently.\n"
   ]
  },
  {
   "cell_type": "code",
   "execution_count": 10,
   "id": "8d601d84-3d60-42b4-8dff-c1cf368526d1",
   "metadata": {},
   "outputs": [
    {
     "name": "stdout",
     "output_type": "stream",
     "text": [
      "Worker 0 is computing\n",
      "Worker 1 is computing\n",
      "Worker 2 is computing\n",
      "Worker 3 is computing\n",
      "Worker 4 is computing\n",
      "Result: 0\n",
      "Result: 1\n",
      "Result: 4\n",
      "Result: 9\n",
      "Result: 16\n"
     ]
    }
   ],
   "source": [
    "from concurrent.futures import ThreadPoolExecutor\n",
    "\n",
    "def worker(num):\n",
    "    \"\"\"Worker function that computes the square of a number.\"\"\"\n",
    "    print(f\"Worker {num} is computing\")\n",
    "    return num * num\n",
    "\n",
    "if __name__ == '__main__':\n",
    "    # Create a ThreadPoolExecutor with 3 threads\n",
    "    with ThreadPoolExecutor(max_workers=3) as executor:\n",
    "        # Submit tasks to the pool\n",
    "        futures = [executor.submit(worker, i) for i in range(5)]\n",
    "        \n",
    "        # Retrieve and print results\n",
    "        for future in futures:\n",
    "            result = future.result()\n",
    "            print(f\"Result: {result}\")\n"
   ]
  },
  {
   "cell_type": "code",
   "execution_count": null,
   "id": "58c61eda-b0a0-4ff1-8575-e28b88c269b0",
   "metadata": {},
   "outputs": [],
   "source": []
  }
 ],
 "metadata": {
  "kernelspec": {
   "display_name": "Python 3 (ipykernel)",
   "language": "python",
   "name": "python3"
  },
  "language_info": {
   "codemirror_mode": {
    "name": "ipython",
    "version": 3
   },
   "file_extension": ".py",
   "mimetype": "text/x-python",
   "name": "python",
   "nbconvert_exporter": "python",
   "pygments_lexer": "ipython3",
   "version": "3.11.7"
  }
 },
 "nbformat": 4,
 "nbformat_minor": 5
}
