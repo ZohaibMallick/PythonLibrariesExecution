{
 "cells": [
  {
   "cell_type": "markdown",
   "id": "5df9f3df-ba1f-4a00-88e7-cadbc1eb07a5",
   "metadata": {},
   "source": [
    "# Md Zohaib Haque"
   ]
  },
  {
   "cell_type": "markdown",
   "id": "92dacc90-39ae-4288-b49b-436d3d997a53",
   "metadata": {},
   "source": [
    "### 1. Creating a Process & Assign Callbacks\n",
    "Creating a process involves instantiating a `Process` object and starting it. You can also assign a callback function to handle results or completion.\n"
   ]
  },
  {
   "cell_type": "code",
   "execution_count": null,
   "id": "5d787b1d-25fa-4486-ae7a-6b0db58bae08",
   "metadata": {},
   "outputs": [],
   "source": [
    "from multiprocessing import Process, Queue\n",
    "\n",
    "def worker(queue):\n",
    "    \"\"\"Worker function to be executed in a separate process.\"\"\"\n",
    "    result = \"Hello from the worker process!\"\n",
    "    queue.put(result)  # Use queue to send result back to main process\n",
    "\n",
    "def callback(result):\n",
    "    \"\"\"Callback function to handle results.\"\"\"\n",
    "    print(f\"Callback received result: {result}\")\n",
    "\n",
    "if __name__ == '__main__':\n",
    "    # Create a queue for inter-process communication\n",
    "    queue = Queue()\n",
    "    \n",
    "    # Create and start a new process\n",
    "    process = Process(target=worker, args=(queue,))\n",
    "    process.start()\n",
    "    \n",
    "    # Wait for the process to complete\n",
    "    process.join()\n",
    "    \n",
    "    # Retrieve result from the queue\n",
    "    result = queue.get()\n",
    "    \n",
    "    # Call the callback function\n",
    "    callback(result)\n"
   ]
  },
  {
   "cell_type": "markdown",
   "id": "ce457306-c4cd-45b4-9b8c-adbcbbb2de45",
   "metadata": {},
   "source": [
    "### 2. Designing the Process Functions & Passing Arguments, Return Values\n",
    "You can design process functions to accept arguments and return values via inter-process communication methods.\n"
   ]
  },
  {
   "cell_type": "code",
   "execution_count": null,
   "id": "f2d29b93-d324-4108-b413-c0618f9af444",
   "metadata": {},
   "outputs": [],
   "source": [
    "from multiprocessing import Process, Queue\n",
    "\n",
    "def compute_square(number, queue):\n",
    "    \"\"\"Function to compute the square of a number.\"\"\"\n",
    "    result = number * number\n",
    "    queue.put(result)  # Return result via queue\n",
    "\n",
    "if __name__ == '__main__':\n",
    "    number = 5\n",
    "    queue = Queue()\n",
    "    \n",
    "    # Create and start the process\n",
    "    process = Process(target=compute_square, args=(number, queue))\n",
    "    process.start()\n",
    "    process.join()\n",
    "    \n",
    "    # Retrieve the result from the queue\n",
    "    result = queue.get()\n",
    "    print(f\"The square of {number} is {result}\")\n"
   ]
  },
  {
   "cell_type": "markdown",
   "id": "8bbcd2c6-f82b-4efe-9635-6f1a2a300203",
   "metadata": {},
   "source": [
    "### 3. Process Synchronization – Mutex, Condition, Semaphores\n",
    "Synchronization tools such as mutexes, conditions, and semaphores help manage concurrent access to shared resources.\n",
    "- **Example using Lock, Condition, and Semaphore**:\n"
   ]
  },
  {
   "cell_type": "code",
   "execution_count": null,
   "id": "2370a5c3-568d-452b-a9c2-b1dadc954ab9",
   "metadata": {},
   "outputs": [],
   "source": [
    "from multiprocessing import Process, Lock, Condition, Semaphore\n",
    "\n",
    "def synchronized_task(lock, condition, semaphore):\n",
    "    \"\"\"Task that uses mutex, condition, and semaphore for synchronization.\"\"\"\n",
    "    with lock:\n",
    "        print(\"Task acquired the lock\")\n",
    "        condition.wait()  # Wait for the condition to be notified\n",
    "        semaphore.acquire()\n",
    "        print(\"Semaphore acquired\")\n",
    "        # Simulate some work\n",
    "        semaphore.release()\n",
    "        print(\"Semaphore released\")\n",
    "\n",
    "def notifier(condition):\n",
    "    \"\"\"Notifier function to signal the condition.\"\"\"\n",
    "    import time\n",
    "    time.sleep(2)\n",
    "    with condition:\n",
    "        print(\"Notifying condition\")\n",
    "        condition.notify_all()\n",
    "\n",
    "if __name__ == '__main__':\n",
    "    lock = Lock()\n",
    "    condition = Condition(lock)\n",
    "    semaphore = Semaphore(1)\n",
    "    \n",
    "    p1 = Process(target=synchronized_task, args=(lock, condition, semaphore))\n",
    "    p2 = Process(target=notifier, args=(condition,))\n",
    "    \n",
    "    p1.start()\n",
    "    p2.start()\n",
    "    \n",
    "    p1.join()\n",
    "    p2.join()\n"
   ]
  },
  {
   "cell_type": "markdown",
   "id": "ae93ceaa-162b-4fa2-855e-e5e7e2ccd077",
   "metadata": {},
   "source": [
    "### 4. Inter-Process Communication – Queue, Pipe, and More\n",
    "Different methods are available for inter-process communication. Here are examples of some common methods:\n",
    "\n",
    "- **Example using Queue**:\n"
   ]
  },
  {
   "cell_type": "code",
   "execution_count": null,
   "id": "5dd7bf1f-3357-4bf9-8189-a25556894eb4",
   "metadata": {},
   "outputs": [],
   "source": [
    "from multiprocessing import Process, Queue\n",
    "\n",
    "def producer(queue):\n",
    "    \"\"\"Producer function that puts items into the queue.\"\"\"\n",
    "    for i in range(5):\n",
    "        queue.put(i)\n",
    "    queue.put(None)  # Sentinel value to indicate the end of data\n",
    "\n",
    "def consumer(queue):\n",
    "    \"\"\"Consumer function that processes items from the queue.\"\"\"\n",
    "    while True:\n",
    "        item = queue.get()\n",
    "        if item is None:\n",
    "            break\n",
    "        print(f\"Consumed: {item}\")\n",
    "\n",
    "if __name__ == '__main__':\n",
    "    queue = Queue()\n",
    "    \n",
    "    p1 = Process(target=producer, args=(queue,))\n",
    "    p2 = Process(target=consumer, args=(queue,))\n",
    "    \n",
    "    p1.start()\n",
    "    p2.start()\n",
    "    \n",
    "    p1.join()\n",
    "    p2.join()\n"
   ]
  },
  {
   "cell_type": "markdown",
   "id": "b5fa6562-899d-4163-9eea-22eb483f32b0",
   "metadata": {},
   "source": [
    "- **Example using Pipe**:\n"
   ]
  },
  {
   "cell_type": "code",
   "execution_count": null,
   "id": "94d424c2-8901-4f79-9e43-954fd31d9b44",
   "metadata": {},
   "outputs": [],
   "source": [
    "from multiprocessing import Process, Pipe\n",
    "\n",
    "def sender(pipe):\n",
    "    \"\"\"Function to send data through the pipe.\"\"\"\n",
    "    pipe.send(\"Hello from sender!\")\n",
    "    pipe.close()\n",
    "\n",
    "def receiver(pipe):\n",
    "    \"\"\"Function to receive data from the pipe.\"\"\"\n",
    "    message = pipe.recv()\n",
    "    print(f\"Received message: {message}\")\n",
    "\n",
    "if __name__ == '__main__':\n",
    "    parent_conn, child_conn = Pipe()\n",
    "    \n",
    "    p1 = Process(target=sender, args=(child_conn,))\n",
    "    p2 = Process(target=receiver, args=(parent_conn,))\n",
    "    \n",
    "    p1.start()\n",
    "    p2.start()\n",
    "    \n",
    "    p1.join()\n",
    "    p2.join()\n"
   ]
  },
  {
   "cell_type": "markdown",
   "id": "f17aa502-e3ee-4329-a2ff-dc2f0d47f050",
   "metadata": {},
   "source": [
    "### 5. Process Pools\n",
    "Using a Pool of worker processes can simplify the management of multiple processes and handle a large number of tasks efficiently.\n"
   ]
  },
  {
   "cell_type": "code",
   "execution_count": null,
   "id": "fc4d30d4-8083-4aff-af6e-28d99a90d09a",
   "metadata": {},
   "outputs": [],
   "source": [
    "from multiprocessing import Pool\n",
    "\n",
    "def worker(num):\n",
    "    \"\"\"Worker function that squares a number.\"\"\"\n",
    "    return num * num\n",
    "\n",
    "if __name__ == '__main__':\n",
    "    numbers = [1, 2, 3, 4, 5]\n",
    "    \n",
    "    # Create a Pool of 3 worker processes\n",
    "    with Pool(3) as pool:\n",
    "        results = pool.map(worker, numbers)\n",
    "    \n",
    "    print(f\"Results: {results}\")\n"
   ]
  },
  {
   "cell_type": "code",
   "execution_count": null,
   "id": "70249e2a-7fd7-4454-9ff6-7c00ca77ce51",
   "metadata": {},
   "outputs": [],
   "source": []
  }
 ],
 "metadata": {
  "kernelspec": {
   "display_name": "Python 3 (ipykernel)",
   "language": "python",
   "name": "python3"
  },
  "language_info": {
   "codemirror_mode": {
    "name": "ipython",
    "version": 3
   },
   "file_extension": ".py",
   "mimetype": "text/x-python",
   "name": "python",
   "nbconvert_exporter": "python",
   "pygments_lexer": "ipython3",
   "version": "3.11.7"
  }
 },
 "nbformat": 4,
 "nbformat_minor": 5
}
