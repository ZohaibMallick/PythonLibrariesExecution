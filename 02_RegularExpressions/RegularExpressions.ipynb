{
 "cells": [
  {
   "cell_type": "markdown",
   "id": "d2427816-7a53-4388-bf0b-dbf353494ff7",
   "metadata": {},
   "source": [
    "### 1.1. Matching Simple Patterns\n",
    "The `re.match()` function matches a pattern at the beginning of the string.\n"
   ]
  },
  {
   "cell_type": "code",
   "execution_count": 1,
   "id": "97cc01b8-595b-4eda-926d-82cffa6496ad",
   "metadata": {},
   "outputs": [
    {
     "name": "stdout",
     "output_type": "stream",
     "text": [
      "Matched: hello\n"
     ]
    }
   ],
   "source": [
    "import re\n",
    "\n",
    "pattern = r'hello'\n",
    "text = \"hello world\"\n",
    "\n",
    "# Match at the beginning of the string\n",
    "match = re.match(pattern, text)\n",
    "if match:\n",
    "    print(\"Matched:\", match.group())\n"
   ]
  },
  {
   "cell_type": "markdown",
   "id": "d52e4b22-b9e5-45fa-a014-432473513cbf",
   "metadata": {},
   "source": [
    "### 1.2. Using `re.search()` for Searching Anywhere in the String\n",
    "`re.search()` finds the first occurrence of the pattern in the string, not just at the beginning.\n"
   ]
  },
  {
   "cell_type": "code",
   "execution_count": 3,
   "id": "9d695e4d-c9a8-49fe-99a4-cb6676724cef",
   "metadata": {},
   "outputs": [
    {
     "name": "stdout",
     "output_type": "stream",
     "text": [
      "Found: world\n"
     ]
    }
   ],
   "source": [
    "pattern = r'world'\n",
    "text = \"hello world\"\n",
    "\n",
    "# Search for pattern anywhere in the string\n",
    "search = re.search(pattern, text)\n",
    "if search:\n",
    "    print(\"Found:\", search.group())\n"
   ]
  },
  {
   "cell_type": "markdown",
   "id": "ca979bdd-793b-4a32-a326-4f22587c0b6a",
   "metadata": {},
   "source": [
    "### 1.3. Using `re.findall()` for Finding All Matches\n",
    "`re.findall()` returns all non-overlapping matches of the pattern in the string.\n"
   ]
  },
  {
   "cell_type": "code",
   "execution_count": 4,
   "id": "3ffa46b0-6969-43cd-b2fc-dfd9c0609cde",
   "metadata": {},
   "outputs": [
    {
     "name": "stdout",
     "output_type": "stream",
     "text": [
      "All matches: ['2023', '2024']\n"
     ]
    }
   ],
   "source": [
    "pattern = r'\\d+'  # Match one or more digits\n",
    "text = \"The year 2023 is followed by 2024\"\n",
    "\n",
    "# Find all occurrences of the pattern\n",
    "matches = re.findall(pattern, text)\n",
    "print(\"All matches:\", matches)\n"
   ]
  },
  {
   "cell_type": "markdown",
   "id": "84db5af0-5961-47d7-be8a-dd03ad11036d",
   "metadata": {},
   "source": [
    "### 1.4. Using `re.split()` to Split Strings Based on a Pattern\n",
    "You can split a string by a regular expression using `re.split()`.\n"
   ]
  },
  {
   "cell_type": "code",
   "execution_count": 5,
   "id": "f6a447ce-fcd0-4870-8e93-5d0f48307e86",
   "metadata": {},
   "outputs": [
    {
     "name": "stdout",
     "output_type": "stream",
     "text": [
      "Splitted: ['Split', 'this', 'sentence', 'into', 'words']\n"
     ]
    }
   ],
   "source": [
    "pattern = r'\\s+'  # Split by any whitespace\n",
    "text = \"Split this sentence into words\"\n",
    "\n",
    "# Split the string based on pattern\n",
    "split_text = re.split(pattern, text)\n",
    "print(\"Splitted:\", split_text)\n"
   ]
  },
  {
   "cell_type": "markdown",
   "id": "32700247-2efe-4423-9501-c3532bf87fdf",
   "metadata": {},
   "source": [
    "### 1.5. Using `re.sub()` to Replace Patterns\n",
    "`re.sub()` allows you to replace all occurrences of a pattern with a specified string.\n"
   ]
  },
  {
   "cell_type": "code",
   "execution_count": 6,
   "id": "b7fd885b-71e6-4afe-94b0-aaa6f79b902c",
   "metadata": {},
   "outputs": [
    {
     "name": "stdout",
     "output_type": "stream",
     "text": [
      "Replaced text: The year is XXXX, soon it will be XXXX\n"
     ]
    }
   ],
   "source": [
    "pattern = r'\\d{4}'  # Match any 4-digit number\n",
    "text = \"The year is 2023, soon it will be 2024\"\n",
    "\n",
    "# Replace the pattern with a new value\n",
    "new_text = re.sub(pattern, \"XXXX\", text)\n",
    "print(\"Replaced text:\", new_text)\n"
   ]
  },
  {
   "cell_type": "markdown",
   "id": "888ff520-371f-4816-be93-32e41cf01198",
   "metadata": {},
   "source": [
    "### 2.1. Working with Groups in Regular Expressions\n",
    "Groups are portions of a pattern enclosed in parentheses. You can use `group()` to access matched groups.\n"
   ]
  },
  {
   "cell_type": "code",
   "execution_count": 8,
   "id": "e7e53257-8fd6-4bae-9e1e-e4b43654145f",
   "metadata": {},
   "outputs": [
    {
     "name": "stdout",
     "output_type": "stream",
     "text": [
      "Year: 2023\n",
      "Month: 09\n",
      "Day: 28\n"
     ]
    }
   ],
   "source": [
    "pattern = r'(\\d{4})-(\\d{2})-(\\d{2})'  # Matches YYYY-MM-DD\n",
    "text = \"The date is 2023-09-28\"\n",
    "\n",
    "# Search for the date pattern\n",
    "match = re.search(pattern, text)\n",
    "if match:\n",
    "    print(\"Year:\", match.group(1))  # First group\n",
    "    print(\"Month:\", match.group(2))  # Second group\n",
    "    print(\"Day:\", match.group(3))  # Third group\n"
   ]
  },
  {
   "cell_type": "markdown",
   "id": "38a8c36c-6984-4565-8471-0691c6b4e3f0",
   "metadata": {},
   "source": [
    "### 2.2. Using Named Groups\n",
    "You can name your groups for more clarity using the syntax `(?P<name>...)`.\n"
   ]
  },
  {
   "cell_type": "code",
   "execution_count": 10,
   "id": "3bb357a8-cb38-4b27-8d50-d98a2e515192",
   "metadata": {},
   "outputs": [
    {
     "name": "stdout",
     "output_type": "stream",
     "text": [
      "Year: 2023\n",
      "Month: 09\n",
      "Day: 28\n"
     ]
    }
   ],
   "source": [
    "pattern = r'(?P<year>\\d{4})-(?P<month>\\d{2})-(?P<day>\\d{2})'\n",
    "text = \"The date is 2023-09-28\"\n",
    "\n",
    "# Search with named groups\n",
    "match = re.search(pattern, text)\n",
    "if match:\n",
    "    print(\"Year:\", match.group('year'))\n",
    "    print(\"Month:\", match.group('month'))\n",
    "    print(\"Day:\", match.group('day'))\n"
   ]
  },
  {
   "cell_type": "markdown",
   "id": "34094c6f-bb73-4376-b6bb-d87373979ebf",
   "metadata": {},
   "source": [
    "### 2.3. Using Non-Capturing Groups\n",
    "Non-capturing groups `(?:...)` do not save the match but still allow pattern grouping.\n"
   ]
  },
  {
   "cell_type": "code",
   "execution_count": 11,
   "id": "c57574d2-a4d6-45b5-b2d5-0f5d2dbcf4bd",
   "metadata": {},
   "outputs": [
    {
     "name": "stdout",
     "output_type": "stream",
     "text": [
      "Domains: ['example.com', 'example.org']\n"
     ]
    }
   ],
   "source": [
    "pattern = r'(?:http|https)://(\\w+\\.\\w+)'\n",
    "text = \"Visit http://example.com or https://example.org\"\n",
    "\n",
    "# Find all domain names\n",
    "matches = re.findall(pattern, text)\n",
    "print(\"Domains:\", matches)\n"
   ]
  },
  {
   "cell_type": "markdown",
   "id": "61456b83-8f5a-4f94-a2f4-f5e7433aa088",
   "metadata": {},
   "source": [
    "### 2.4. Lookahead and Lookbehind Assertions\n",
    "- **Lookahead**: Matches a pattern only if it is followed by another pattern.\n"
   ]
  },
  {
   "cell_type": "code",
   "execution_count": 12,
   "id": "ded682f3-b214-47ee-9e24-67181e2bb3bb",
   "metadata": {},
   "outputs": [
    {
     "name": "stdout",
     "output_type": "stream",
     "text": [
      "Lookahead matches: ['Python', 'regex']\n"
     ]
    }
   ],
   "source": [
    "pattern = r'\\w+(?=\\sis)'  # Match word followed by \" is\"\n",
    "text = \"Python is powerful and regex is fun\"\n",
    "\n",
    "matches = re.findall(pattern, text)\n",
    "print(\"Lookahead matches:\", matches)\n"
   ]
  },
  {
   "cell_type": "markdown",
   "id": "d7256137-4cbd-4205-8741-846600b24402",
   "metadata": {},
   "source": [
    "- **Lookbehind**: Matches a pattern only if it is preceded by another pattern.\n"
   ]
  },
  {
   "cell_type": "code",
   "execution_count": 13,
   "id": "1159b0a7-7a4a-4b63-9437-37fab7416b7f",
   "metadata": {},
   "outputs": [
    {
     "name": "stdout",
     "output_type": "stream",
     "text": [
      "Lookbehind matches: ['powerful', 'fun']\n"
     ]
    }
   ],
   "source": [
    "pattern = r'(?<=is\\s)\\w+'  # Match word preceded by \"is \"\n",
    "text = \"Python is powerful and regex is fun\"\n",
    "\n",
    "matches = re.findall(pattern, text)\n",
    "print(\"Lookbehind matches:\", matches)\n"
   ]
  },
  {
   "cell_type": "markdown",
   "id": "8ba33a67-1372-4620-8b22-c2027800f939",
   "metadata": {},
   "source": [
    "### 3.1. Flags for Modifying Behavior\n",
    "- **Case-Insensitive Matching** (`re.IGNORECASE`):\n"
   ]
  },
  {
   "cell_type": "code",
   "execution_count": 14,
   "id": "87452dd5-d25a-4f38-baa8-8f933801523a",
   "metadata": {},
   "outputs": [
    {
     "name": "stdout",
     "output_type": "stream",
     "text": [
      "Case-insensitive match: PYTHON\n"
     ]
    }
   ],
   "source": [
    "pattern = r'python'\n",
    "text = \"I love PYTHON programming\"\n",
    "\n",
    "match = re.search(pattern, text, re.IGNORECASE)\n",
    "print(\"Case-insensitive match:\", match.group())\n"
   ]
  },
  {
   "cell_type": "markdown",
   "id": "60b72646-408e-4004-9e0a-1b0278e337b7",
   "metadata": {},
   "source": [
    "- **Multiline Mode** (`re.MULTILINE`): In multiline mode, the `^` and `$` anchors match the start and end of each line rather than the whole string.\n"
   ]
  },
  {
   "cell_type": "code",
   "execution_count": 15,
   "id": "ad915ccb-3c2f-459b-8a78-b07d303d0b57",
   "metadata": {},
   "outputs": [
    {
     "name": "stdout",
     "output_type": "stream",
     "text": [
      "Multiline matches: ['hello', 'hello']\n"
     ]
    }
   ],
   "source": [
    "pattern = r'^hello'\n",
    "text = \"\"\"hello world\n",
    "this is a test\n",
    "hello again\"\"\"\n",
    "\n",
    "matches = re.findall(pattern, text, re.MULTILINE)\n",
    "print(\"Multiline matches:\", matches)\n"
   ]
  },
  {
   "cell_type": "markdown",
   "id": "6177774b-401a-4835-b5cf-793be8b18fc7",
   "metadata": {},
   "source": [
    "### 3.2. Greedy vs Non-Greedy Matching\n",
    "- **Greedy**: Matches as much as possible.\n"
   ]
  },
  {
   "cell_type": "code",
   "execution_count": 16,
   "id": "0dfbfb3f-748e-4f78-9b55-74d73de0944a",
   "metadata": {},
   "outputs": [
    {
     "name": "stdout",
     "output_type": "stream",
     "text": [
      "Greedy match: <div>content</div>\n"
     ]
    }
   ],
   "source": [
    "pattern = r'<.*>'  # Match everything between < and >\n",
    "text = \"<div>content</div>\"\n",
    "\n",
    "match = re.search(pattern, text)\n",
    "print(\"Greedy match:\", match.group())\n"
   ]
  },
  {
   "cell_type": "markdown",
   "id": "b8aef6fb-1343-4a46-aeee-6193028fb048",
   "metadata": {},
   "source": [
    "- **Non-Greedy**: Matches as little as possible.\n"
   ]
  },
  {
   "cell_type": "code",
   "execution_count": 17,
   "id": "5d2201b5-fa5e-4e72-acab-07ee50ed0f09",
   "metadata": {},
   "outputs": [
    {
     "name": "stdout",
     "output_type": "stream",
     "text": [
      "Non-greedy match: <div>\n"
     ]
    }
   ],
   "source": [
    "pattern = r'<.*?>'  # Match as little as possible between < and >\n",
    "text = \"<div>content</div>\"\n",
    "\n",
    "match = re.search(pattern, text)\n",
    "print(\"Non-greedy match:\", match.group())\n"
   ]
  },
  {
   "cell_type": "markdown",
   "id": "be59fd30-6eec-4e38-a4e2-8bd6e50bba92",
   "metadata": {},
   "source": [
    "### 3.3. Compiling Regular Expressions\n",
    "For improved performance when using the same pattern multiple times, you can compile regular expressions using `re.compile()`.\n"
   ]
  },
  {
   "cell_type": "code",
   "execution_count": 18,
   "id": "40d4d02c-4154-47d5-abc3-589f5e2a7c40",
   "metadata": {},
   "outputs": [
    {
     "name": "stdout",
     "output_type": "stream",
     "text": [
      "Matches: ['3', '10']\n"
     ]
    }
   ],
   "source": [
    "pattern = re.compile(r'\\d+')\n",
    "\n",
    "# Search for numbers\n",
    "text = \"There are 3 apples and 10 bananas\"\n",
    "matches = pattern.findall(text)\n",
    "print(\"Matches:\", matches)\n"
   ]
  },
  {
   "cell_type": "markdown",
   "id": "b134ea39-7b61-42f7-ab63-3439a2954c53",
   "metadata": {},
   "source": [
    "### 3.4. Working with Complex Patterns\n",
    "You can use the `re.VERBOSE` flag to write complex regular expressions with comments and better readability.\n"
   ]
  },
  {
   "cell_type": "code",
   "execution_count": 19,
   "id": "06fe262d-4d0d-4356-8d82-8bccbccdd546",
   "metadata": {},
   "outputs": [
    {
     "name": "stdout",
     "output_type": "stream",
     "text": [
      "Year: 2023\n",
      "Month: 09\n",
      "Day: 28\n"
     ]
    }
   ],
   "source": [
    "pattern = re.compile(r'''\n",
    "    (\\d{4})  # Match 4 digits (year)\n",
    "    -        # Hyphen\n",
    "    (\\d{2})  # Match 2 digits (month)\n",
    "    -        # Hyphen\n",
    "    (\\d{2})  # Match 2 digits (day)\n",
    "''', re.VERBOSE)\n",
    "\n",
    "text = \"Today's date is 2023-09-28\"\n",
    "match = pattern.search(text)\n",
    "if match:\n",
    "    print(\"Year:\", match.group(1))\n",
    "    print(\"Month:\", match.group(2))\n",
    "    print(\"Day:\", match.group(3))\n"
   ]
  },
  {
   "cell_type": "markdown",
   "id": "0032e0c3-6c30-49bc-bee1-71698d7ea748",
   "metadata": {},
   "source": [
    "### 3.5. Advanced Substitution with Functions\n",
    "`re.sub()` can take a function as the replacement argument to perform advanced substitutions.\n"
   ]
  },
  {
   "cell_type": "code",
   "execution_count": 20,
   "id": "6b09feb5-c09e-49f8-84b6-b12b40433ca9",
   "metadata": {},
   "outputs": [
    {
     "name": "stdout",
     "output_type": "stream",
     "text": [
      "Updated text: The year is 2024\n"
     ]
    }
   ],
   "source": [
    "def replace_year(match):\n",
    "    year = int(match.group())\n",
    "    return str(year + 1)\n",
    "\n",
    "pattern = r'\\d{4}'\n",
    "text = \"The year is 2023\"\n",
    "\n",
    "# Increment the year by 1\n",
    "new_text = re.sub(pattern, replace_year, text)\n",
    "print(\"Updated text:\", new_text)\n"
   ]
  },
  {
   "cell_type": "markdown",
   "id": "4aaefd60-33c3-4c2f-92dd-867e776258e5",
   "metadata": {},
   "source": [
    "# Md Zohaib Haque"
   ]
  },
  {
   "cell_type": "code",
   "execution_count": null,
   "id": "e695d7a2-f703-4da1-baed-c70e8530ec4f",
   "metadata": {},
   "outputs": [],
   "source": []
  }
 ],
 "metadata": {
  "kernelspec": {
   "display_name": "Python 3 (ipykernel)",
   "language": "python",
   "name": "python3"
  },
  "language_info": {
   "codemirror_mode": {
    "name": "ipython",
    "version": 3
   },
   "file_extension": ".py",
   "mimetype": "text/x-python",
   "name": "python",
   "nbconvert_exporter": "python",
   "pygments_lexer": "ipython3",
   "version": "3.11.7"
  }
 },
 "nbformat": 4,
 "nbformat_minor": 5
}
