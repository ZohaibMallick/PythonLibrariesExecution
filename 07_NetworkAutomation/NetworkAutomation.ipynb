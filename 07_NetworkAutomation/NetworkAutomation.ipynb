{
 "cells": [
  {
   "cell_type": "markdown",
   "id": "50248bcc-835e-437d-b358-3101481e1ace",
   "metadata": {},
   "source": [
    "# Md Zohaib Haque"
   ]
  },
  {
   "cell_type": "markdown",
   "id": "f803c4a2-d03b-40f4-b220-26ff13e727bd",
   "metadata": {},
   "source": [
    "### 1. Network Protocol Automation\n",
    "#### 1.1. Telnet\n",
    "Use the `telnetlib` module to connect to a Telnet server.\n"
   ]
  },
  {
   "cell_type": "code",
   "execution_count": 4,
   "id": "3ffc73ba-ebfe-4b17-93c3-01be83759206",
   "metadata": {},
   "outputs": [
    {
     "name": "stdout",
     "output_type": "stream",
     "text": [
      "Note: you may need to restart the kernel to use updated packages.\n"
     ]
    },
    {
     "name": "stderr",
     "output_type": "stream",
     "text": [
      "ERROR: Could not find a version that satisfies the requirement telnet (from versions: none)\n",
      "ERROR: No matching distribution found for telnet\n"
     ]
    }
   ],
   "source": [
    "pip install telnet"
   ]
  },
  {
   "cell_type": "code",
   "execution_count": 7,
   "id": "72b811f4-0ab2-4089-ada1-3c1d8ad5e5cd",
   "metadata": {},
   "outputs": [
    {
     "name": "stdout",
     "output_type": "stream",
     "text": [
      "An error occurred: [WinError 10060] A connection attempt failed because the connected party did not properly respond after a period of time, or established connection failed because connected host has failed to respond\n"
     ]
    }
   ],
   "source": [
    "import telnetlib\n",
    "\n",
    "def telnet_example(host, port, command):\n",
    "    try:\n",
    "        # Connect to the server\n",
    "        tn = telnetlib.Telnet(host, port)\n",
    "        \n",
    "        # Send a command\n",
    "        tn.write(command.encode('ascii') + b\"\\n\")\n",
    "        \n",
    "        # Read the response\n",
    "        response = tn.read_all().decode('ascii')\n",
    "        \n",
    "        print(\"Response from Telnet server:\")\n",
    "        print(response)\n",
    "        \n",
    "        tn.close()\n",
    "    except Exception as e:\n",
    "        print(f\"An error occurred: {e}\")\n",
    "\n",
    "# Example usage\n",
    "telnet_example('example.com', 23, 'HELP')\n"
   ]
  },
  {
   "cell_type": "markdown",
   "id": "51bcb568-4376-418d-a7ca-d75a1b7c7d94",
   "metadata": {},
   "source": [
    "#### 1.2. FTP\n",
    "Use the `ftplib` module to interact with FTP servers.\n"
   ]
  },
  {
   "cell_type": "code",
   "execution_count": 8,
   "id": "ee2bd4ad-fe27-4a35-9aed-823b8eb989a3",
   "metadata": {},
   "outputs": [
    {
     "name": "stdout",
     "output_type": "stream",
     "text": [
      "An error occurred: [Errno 11001] getaddrinfo failed\n"
     ]
    }
   ],
   "source": [
    "from ftplib import FTP\n",
    "\n",
    "def ftp_example(host, username, password):\n",
    "    try:\n",
    "        # Connect to the FTP server\n",
    "        ftp = FTP(host)\n",
    "        ftp.login(username, password)\n",
    "        \n",
    "        # List files in the current directory\n",
    "        files = ftp.nlst()\n",
    "        print(\"Files in FTP directory:\")\n",
    "        for file in files:\n",
    "            print(file)\n",
    "        \n",
    "        # Upload a file\n",
    "        with open('test.txt', 'rb') as file:\n",
    "            ftp.storbinary('STOR test.txt', file)\n",
    "        \n",
    "        # Download a file\n",
    "        with open('downloaded_test.txt', 'wb') as file:\n",
    "            ftp.retrbinary('RETR test.txt', file.write)\n",
    "        \n",
    "        ftp.quit()\n",
    "    except Exception as e:\n",
    "        print(f\"An error occurred: {e}\")\n",
    "\n",
    "# Example usage\n",
    "ftp_example('ftp.example.com', 'username', 'password')\n"
   ]
  },
  {
   "cell_type": "markdown",
   "id": "bcef75c0-1e58-48d8-8624-b0b9ea549e3d",
   "metadata": {},
   "source": [
    "#### 1.3. SSH\n",
    "Use the `paramiko` library for SSH connections.\n"
   ]
  },
  {
   "cell_type": "code",
   "execution_count": 10,
   "id": "a5072088-215a-4914-852f-fe34e3fd03af",
   "metadata": {},
   "outputs": [
    {
     "name": "stdout",
     "output_type": "stream",
     "text": [
      "An error occurred: [WinError 10060] A connection attempt failed because the connected party did not properly respond after a period of time, or established connection failed because connected host has failed to respond\n"
     ]
    }
   ],
   "source": [
    "import paramiko\n",
    "\n",
    "def ssh_example(host, port, username, password, command):\n",
    "    try:\n",
    "        # Create an SSH client\n",
    "        ssh = paramiko.SSHClient()\n",
    "        ssh.set_missing_host_key_policy(paramiko.AutoAddPolicy())\n",
    "        \n",
    "        # Connect to the server\n",
    "        ssh.connect(host, port, username, password)\n",
    "        \n",
    "        # Execute a command\n",
    "        stdin, stdout, stderr = ssh.exec_command(command)\n",
    "        response = stdout.read().decode()\n",
    "        print(\"Response from SSH server:\")\n",
    "        print(response)\n",
    "        \n",
    "        ssh.close()\n",
    "    except Exception as e:\n",
    "        print(f\"An error occurred: {e}\")\n",
    "\n",
    "# Example usage\n",
    "ssh_example('example.com', 22, 'username', 'password', 'ls -l')\n"
   ]
  },
  {
   "cell_type": "markdown",
   "id": "b6c84ea0-0881-4622-a7cc-5e7af34ba98d",
   "metadata": {},
   "source": [
    "#### 1.4. SCP\n",
    "Use the `paramiko` library along with `scp` for SCP transfers.\n"
   ]
  },
  {
   "cell_type": "code",
   "execution_count": 13,
   "id": "dcf2bcc2-0263-4470-92dc-7bac00ec7121",
   "metadata": {},
   "outputs": [
    {
     "ename": "ModuleNotFoundError",
     "evalue": "No module named 'scp'",
     "output_type": "error",
     "traceback": [
      "\u001b[1;31m---------------------------------------------------------------------------\u001b[0m",
      "\u001b[1;31mModuleNotFoundError\u001b[0m                       Traceback (most recent call last)",
      "Cell \u001b[1;32mIn[13], line 2\u001b[0m\n\u001b[0;32m      1\u001b[0m \u001b[38;5;28;01mfrom\u001b[39;00m \u001b[38;5;21;01mparamiko\u001b[39;00m \u001b[38;5;28;01mimport\u001b[39;00m SSHClient\n\u001b[1;32m----> 2\u001b[0m \u001b[38;5;28;01mfrom\u001b[39;00m \u001b[38;5;21;01mscp\u001b[39;00m \u001b[38;5;28;01mimport\u001b[39;00m SCPClient\n\u001b[0;32m      4\u001b[0m \u001b[38;5;28;01mdef\u001b[39;00m \u001b[38;5;21mscp_example\u001b[39m(host, port, username, password, local_file, remote_file):\n\u001b[0;32m      5\u001b[0m     \u001b[38;5;28;01mtry\u001b[39;00m:\n\u001b[0;32m      6\u001b[0m         \u001b[38;5;66;03m# Create an SSH client\u001b[39;00m\n",
      "\u001b[1;31mModuleNotFoundError\u001b[0m: No module named 'scp'"
     ]
    }
   ],
   "source": [
    "from paramiko import SSHClient\n",
    "from scp import SCPClient\n",
    "\n",
    "def scp_example(host, port, username, password, local_file, remote_file):\n",
    "    try:\n",
    "        # Create an SSH client\n",
    "        ssh = SSHClient()\n",
    "        ssh.set_missing_host_key_policy(paramiko.AutoAddPolicy())\n",
    "        ssh.connect(host, port, username, password)\n",
    "        \n",
    "        # Use SCP to transfer files\n",
    "        with SCPClient(ssh.get_transport()) as scp:\n",
    "            scp.put(local_file, remote_file)\n",
    "            print(f\"File {local_file} uploaded to {remote_file}\")\n",
    "        \n",
    "        ssh.close()\n",
    "    except Exception as e:\n",
    "        print(f\"An error occurred: {e}\")\n",
    "\n",
    "# Example usage\n",
    "scp_example('example.com', 22, 'username', 'password', 'local_file.txt', 'remote_file.txt')\n"
   ]
  },
  {
   "cell_type": "markdown",
   "id": "afdf6238-8d18-4264-a79f-bc5fb410548d",
   "metadata": {},
   "source": [
    "#### 1.5. SMTP\n",
    "Use the `smtplib` module to send emails via SMTP.\n"
   ]
  },
  {
   "cell_type": "code",
   "execution_count": 14,
   "id": "c44ccbde-2753-4c03-9abb-6d33522eee95",
   "metadata": {},
   "outputs": [
    {
     "name": "stdout",
     "output_type": "stream",
     "text": [
      "An error occurred: [Errno 11001] getaddrinfo failed\n"
     ]
    }
   ],
   "source": [
    "import smtplib\n",
    "from email.mime.text import MIMEText\n",
    "\n",
    "def smtp_example(smtp_server, smtp_port, username, password, to_email, subject, body):\n",
    "    try:\n",
    "        # Create a text/plain message\n",
    "        msg = MIMEText(body)\n",
    "        msg['Subject'] = subject\n",
    "        msg['From'] = username\n",
    "        msg['To'] = to_email\n",
    "        \n",
    "        # Connect to the SMTP server and send email\n",
    "        with smtplib.SMTP_SSL(smtp_server, smtp_port) as server:\n",
    "            server.login(username, password)\n",
    "            server.sendmail(username, [to_email], msg.as_string())\n",
    "        \n",
    "        print(f\"Email sent to {to_email}\")\n",
    "    except Exception as e:\n",
    "        print(f\"An error occurred: {e}\")\n",
    "\n",
    "# Example usage\n",
    "smtp_example('smtp.example.com', 465, 'your_email@example.com', 'your_password', 'recipient@example.com', 'Subject', 'Email body text')\n"
   ]
  },
  {
   "cell_type": "markdown",
   "id": "5b2d6a1e-6f88-419d-9f06-04efd2b6a499",
   "metadata": {},
   "source": [
    "### 2. Process Automation\n",
    "#### 2.1. Using subprocess Module\n",
    "Use the `subprocess` module to spawn new processes and interact with them.\n"
   ]
  },
  {
   "cell_type": "code",
   "execution_count": 16,
   "id": "aeeac4da-0784-414f-ba9d-2beb9ec6d991",
   "metadata": {},
   "outputs": [
    {
     "name": "stdout",
     "output_type": "stream",
     "text": [
      "Command Output:\n",
      "\n",
      "Command Error (if any):\n",
      "'ls' is not recognized as an internal or external command,\n",
      "operable program or batch file.\n",
      "\n"
     ]
    }
   ],
   "source": [
    "import subprocess\n",
    "\n",
    "def subprocess_example(command):\n",
    "    try:\n",
    "        # Run a command and get output\n",
    "        result = subprocess.run(command, shell=True, text=True, capture_output=True)\n",
    "        print(\"Command Output:\")\n",
    "        print(result.stdout)\n",
    "        print(\"Command Error (if any):\")\n",
    "        print(result.stderr)\n",
    "    except Exception as e:\n",
    "        print(f\"An error occurred: {e}\")\n",
    "\n",
    "# Example usage\n",
    "subprocess_example('ls -l')\n"
   ]
  },
  {
   "cell_type": "markdown",
   "id": "c21e36b8-7949-4902-a2dd-2886b5da31e3",
   "metadata": {},
   "source": [
    "#### 2.2. Using os Module\n",
    "Use the `os` module to interact with the operating system.\n"
   ]
  },
  {
   "cell_type": "code",
   "execution_count": 17,
   "id": "6a3803d0-035e-4ad8-b034-1da1e7ceb38b",
   "metadata": {},
   "outputs": [
    {
     "name": "stdout",
     "output_type": "stream",
     "text": [
      "Current Working Directory: C:\\Users\\Zohaib\\Desktop\\PythonProject\\Assignment\\07_NetworkAutomation\n",
      "Files in Directory:\n",
      ".ipynb_checkpoints\n",
      "NetworkAutomation.ipynb\n",
      "Directory 'new_directory' created\n",
      "Directory 'new_directory' removed\n"
     ]
    }
   ],
   "source": [
    "import os\n",
    "\n",
    "def os_example():\n",
    "    try:\n",
    "        # Get the current working directory\n",
    "        cwd = os.getcwd()\n",
    "        print(f\"Current Working Directory: {cwd}\")\n",
    "\n",
    "        # List files in the current directory\n",
    "        files = os.listdir(cwd)\n",
    "        print(\"Files in Directory:\")\n",
    "        for file in files:\n",
    "            print(file)\n",
    "\n",
    "        # Create a new directory\n",
    "        new_dir = 'new_directory'\n",
    "        os.mkdir(new_dir)\n",
    "        print(f\"Directory '{new_dir}' created\")\n",
    "\n",
    "        # Remove the directory\n",
    "        os.rmdir(new_dir)\n",
    "        print(f\"Directory '{new_dir}' removed\")\n",
    "    except Exception as e:\n",
    "        print(f\"An error occurred: {e}\")\n",
    "\n",
    "# Example usage\n",
    "os_example()\n"
   ]
  },
  {
   "cell_type": "markdown",
   "id": "a4e32a3d-52e1-4011-aa89-aa8cc8fa610e",
   "metadata": {},
   "source": [
    "### Explanation of Concepts\n",
    "- **Telnet**: Connect to Telnet servers and issue commands using `telnetlib`.\n",
    "- **FTP**: Interact with FTP servers to upload and download files using `ftplib`.\n",
    "- **SSH**: Connect and execute commands on remote servers using SSH with `paramiko`.\n",
    "- **SCP**: Transfer files securely between systems using SCP with `paramiko` and `scp`.\n",
    "- **SMTP**: Send emails using the SMTP protocol with `smtplib`.\n",
    "- **Subprocess**: Run shell commands and interact with process output using `subprocess`.\n",
    "- **OS**: Perform system-level operations such as listing directories and creating/removing directories using `os`.\n"
   ]
  },
  {
   "cell_type": "code",
   "execution_count": null,
   "id": "8d3c6a1d-1436-48c4-bee2-67983e6a9e4c",
   "metadata": {},
   "outputs": [],
   "source": []
  }
 ],
 "metadata": {
  "kernelspec": {
   "display_name": "Python 3 (ipykernel)",
   "language": "python",
   "name": "python3"
  },
  "language_info": {
   "codemirror_mode": {
    "name": "ipython",
    "version": 3
   },
   "file_extension": ".py",
   "mimetype": "text/x-python",
   "name": "python",
   "nbconvert_exporter": "python",
   "pygments_lexer": "ipython3",
   "version": "3.11.7"
  }
 },
 "nbformat": 4,
 "nbformat_minor": 5
}
