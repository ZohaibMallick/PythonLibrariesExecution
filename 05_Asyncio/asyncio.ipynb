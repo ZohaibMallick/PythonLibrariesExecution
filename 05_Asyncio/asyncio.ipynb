{
 "cells": [
  {
   "cell_type": "markdown",
   "id": "2c1ed9bd-07c6-47db-a778-03a4b4f540e2",
   "metadata": {},
   "source": [
    "# Md Zohaib Haque"
   ]
  },
  {
   "cell_type": "markdown",
   "id": "3cd24c35-e4b2-468d-bbf5-7b6111be14b2",
   "metadata": {},
   "source": [
    "### 1. Background of asyncio – Pros & Cons\n",
    "- **Pros**:\n",
    "  - Efficient I/O Operations: Non-blocking I/O operations improve efficiency and responsiveness.\n",
    "  - Scalability: Can handle many tasks concurrently without requiring multiple threads or processes.\n",
    "  - Single-threaded: Avoids the complexity of multi-threading and GIL (Global Interpreter Lock) issues.\n",
    "- **Cons**:\n",
    "  - Complexity: Writing and understanding asynchronous code can be more complex compared to synchronous code.\n",
    "  - Debugging: Debugging asynchronous code can be challenging due to its non-linear execution.\n",
    "  - Not Ideal for CPU-bound Tasks: Best suited for I/O-bound tasks; CPU-bound tasks may require multi-processing.\n"
   ]
  },
  {
   "cell_type": "markdown",
   "id": "07efd7e8-8ece-4aa4-8edf-6bdca88cdbd8",
   "metadata": {},
   "source": [
    "### 2. Event Loop\n",
    "The event loop is the core of the asyncio library. It schedules and runs asynchronous tasks.\n"
   ]
  },
  {
   "cell_type": "code",
   "execution_count": 4,
   "id": "7721fe63-c050-4f2e-b85b-d0bd3e8fc1fd",
   "metadata": {},
   "outputs": [
    {
     "name": "stderr",
     "output_type": "stream",
     "text": [
      "Exception ignored in: <coroutine object main at 0x0000027204CE6E00>\n",
      "Traceback (most recent call last):\n",
      "  File \"<string>\", line 1, in <lambda>\n",
      "KeyError: '__import__'\n",
      "Exception ignored in: <coroutine object main at 0x0000027204CE6E00>\n",
      "Traceback (most recent call last):\n",
      "  File \"<string>\", line 1, in <lambda>\n",
      "KeyError: '__import__'\n"
     ]
    },
    {
     "ename": "RuntimeError",
     "evalue": "This event loop is already running",
     "output_type": "error",
     "traceback": [
      "\u001b[1;31m---------------------------------------------------------------------------\u001b[0m",
      "\u001b[1;31mRuntimeError\u001b[0m                              Traceback (most recent call last)",
      "Cell \u001b[1;32mIn[4], line 14\u001b[0m\n\u001b[0;32m     12\u001b[0m \u001b[38;5;28;01mif\u001b[39;00m \u001b[38;5;18m__name__\u001b[39m \u001b[38;5;241m==\u001b[39m \u001b[38;5;124m'\u001b[39m\u001b[38;5;124m__main__\u001b[39m\u001b[38;5;124m'\u001b[39m:\n\u001b[0;32m     13\u001b[0m     loop \u001b[38;5;241m=\u001b[39m asyncio\u001b[38;5;241m.\u001b[39mget_event_loop()\n\u001b[1;32m---> 14\u001b[0m     loop\u001b[38;5;241m.\u001b[39mrun_until_complete(main())\n",
      "File \u001b[1;32m~\\anaconda3\\Lib\\asyncio\\base_events.py:629\u001b[0m, in \u001b[0;36mBaseEventLoop.run_until_complete\u001b[1;34m(self, future)\u001b[0m\n\u001b[0;32m    618\u001b[0m \u001b[38;5;250m\u001b[39m\u001b[38;5;124;03m\"\"\"Run until the Future is done.\u001b[39;00m\n\u001b[0;32m    619\u001b[0m \n\u001b[0;32m    620\u001b[0m \u001b[38;5;124;03mIf the argument is a coroutine, it is wrapped in a Task.\u001b[39;00m\n\u001b[1;32m   (...)\u001b[0m\n\u001b[0;32m    626\u001b[0m \u001b[38;5;124;03mReturn the Future's result, or raise its exception.\u001b[39;00m\n\u001b[0;32m    627\u001b[0m \u001b[38;5;124;03m\"\"\"\u001b[39;00m\n\u001b[0;32m    628\u001b[0m \u001b[38;5;28mself\u001b[39m\u001b[38;5;241m.\u001b[39m_check_closed()\n\u001b[1;32m--> 629\u001b[0m \u001b[38;5;28mself\u001b[39m\u001b[38;5;241m.\u001b[39m_check_running()\n\u001b[0;32m    631\u001b[0m new_task \u001b[38;5;241m=\u001b[39m \u001b[38;5;129;01mnot\u001b[39;00m futures\u001b[38;5;241m.\u001b[39misfuture(future)\n\u001b[0;32m    632\u001b[0m future \u001b[38;5;241m=\u001b[39m tasks\u001b[38;5;241m.\u001b[39mensure_future(future, loop\u001b[38;5;241m=\u001b[39m\u001b[38;5;28mself\u001b[39m)\n",
      "File \u001b[1;32m~\\anaconda3\\Lib\\asyncio\\base_events.py:588\u001b[0m, in \u001b[0;36mBaseEventLoop._check_running\u001b[1;34m(self)\u001b[0m\n\u001b[0;32m    586\u001b[0m \u001b[38;5;28;01mdef\u001b[39;00m \u001b[38;5;21m_check_running\u001b[39m(\u001b[38;5;28mself\u001b[39m):\n\u001b[0;32m    587\u001b[0m     \u001b[38;5;28;01mif\u001b[39;00m \u001b[38;5;28mself\u001b[39m\u001b[38;5;241m.\u001b[39mis_running():\n\u001b[1;32m--> 588\u001b[0m         \u001b[38;5;28;01mraise\u001b[39;00m \u001b[38;5;167;01mRuntimeError\u001b[39;00m(\u001b[38;5;124m'\u001b[39m\u001b[38;5;124mThis event loop is already running\u001b[39m\u001b[38;5;124m'\u001b[39m)\n\u001b[0;32m    589\u001b[0m     \u001b[38;5;28;01mif\u001b[39;00m events\u001b[38;5;241m.\u001b[39m_get_running_loop() \u001b[38;5;129;01mis\u001b[39;00m \u001b[38;5;129;01mnot\u001b[39;00m \u001b[38;5;28;01mNone\u001b[39;00m:\n\u001b[0;32m    590\u001b[0m         \u001b[38;5;28;01mraise\u001b[39;00m \u001b[38;5;167;01mRuntimeError\u001b[39;00m(\n\u001b[0;32m    591\u001b[0m             \u001b[38;5;124m'\u001b[39m\u001b[38;5;124mCannot run the event loop while another loop is running\u001b[39m\u001b[38;5;124m'\u001b[39m)\n",
      "\u001b[1;31mRuntimeError\u001b[0m: This event loop is already running"
     ]
    }
   ],
   "source": [
    "import asyncio\n",
    "\n",
    "async def say_hello():\n",
    "    print(\"Hello\")\n",
    "    await asyncio.sleep(1)\n",
    "    print(\"World\")\n",
    "\n",
    "async def main():\n",
    "    await say_hello()\n",
    "\n",
    "# Run the event loop\n",
    "if __name__ == '__main__':\n",
    "    loop = asyncio.get_event_loop()\n",
    "    loop.run_until_complete(main())\n"
   ]
  },
  {
   "cell_type": "markdown",
   "id": "84dcdf97-871c-40e3-9974-6becd716c2cf",
   "metadata": {},
   "source": [
    "### - Alternative using nest_asyncio"
   ]
  },
  {
   "cell_type": "code",
   "execution_count": 5,
   "id": "045de991-4d97-4712-b1ba-ae857df158cb",
   "metadata": {},
   "outputs": [
    {
     "name": "stdout",
     "output_type": "stream",
     "text": [
      "Requirement already satisfied: nest_asyncio in c:\\users\\zohaib\\anaconda3\\lib\\site-packages (1.6.0)\n",
      "Note: you may need to restart the kernel to use updated packages.\n"
     ]
    }
   ],
   "source": [
    "pip install nest_asyncio"
   ]
  },
  {
   "cell_type": "code",
   "execution_count": 6,
   "id": "37cf6920-f9c8-4d75-a2a7-e17ded2f16e9",
   "metadata": {},
   "outputs": [
    {
     "name": "stdout",
     "output_type": "stream",
     "text": [
      "Hello\n",
      "World\n"
     ]
    }
   ],
   "source": [
    "import asyncio\n",
    "import nest_asyncio\n",
    "\n",
    "# Apply the nest_asyncio patch\n",
    "nest_asyncio.apply()\n",
    "\n",
    "async def say_hello():\n",
    "    print(\"Hello\")\n",
    "    await asyncio.sleep(1)\n",
    "    print(\"World\")\n",
    "\n",
    "async def main():\n",
    "    await say_hello()\n",
    "\n",
    "# Run the event loop\n",
    "await main()\n"
   ]
  },
  {
   "cell_type": "markdown",
   "id": "0878bb69-d233-47c1-afbd-9fd5a6b935d1",
   "metadata": {},
   "source": [
    "### 3. Coroutines & Tasks\n",
    "Coroutines are functions defined with `async def` and use `await` to perform asynchronous operations. Tasks are a way to schedule coroutines to run concurrently.\n"
   ]
  },
  {
   "cell_type": "code",
   "execution_count": 7,
   "id": "d2dfa098-941c-4df9-a0aa-3527274fb408",
   "metadata": {},
   "outputs": [
    {
     "name": "stdout",
     "output_type": "stream",
     "text": [
      "Task 1 started\n",
      "Task 2 started\n",
      "Task 2 completed\n",
      "Task 1 completed\n"
     ]
    }
   ],
   "source": [
    "import asyncio\n",
    "\n",
    "async def task1():\n",
    "    print(\"Task 1 started\")\n",
    "    await asyncio.sleep(2)\n",
    "    print(\"Task 1 completed\")\n",
    "\n",
    "async def task2():\n",
    "    print(\"Task 2 started\")\n",
    "    await asyncio.sleep(1)\n",
    "    print(\"Task 2 completed\")\n",
    "\n",
    "async def main():\n",
    "    # Create tasks\n",
    "    t1 = asyncio.create_task(task1())\n",
    "    t2 = asyncio.create_task(task2())\n",
    "    \n",
    "    # Wait for both tasks to complete\n",
    "    await t1\n",
    "    await t2\n",
    "\n",
    "# Run the event loop\n",
    "if __name__ == '__main__':\n",
    "    asyncio.run(main())\n"
   ]
  },
  {
   "cell_type": "markdown",
   "id": "60ff785e-fd71-4a29-bc5c-a29a6184450e",
   "metadata": {},
   "source": [
    "### 4. Futures & Synchronization\n",
    "Futures represent a result that will be available in the future. `asyncio.Future` objects can be used to work with asynchronous results.\n",
    "#### Example using Future\r\n"
   ]
  },
  {
   "cell_type": "code",
   "execution_count": 9,
   "id": "c9ff62ea-3595-4156-a7e8-e847779c7edf",
   "metadata": {},
   "outputs": [
    {
     "name": "stdout",
     "output_type": "stream",
     "text": [
      "Producing result...\n",
      "Waiting for result...\n",
      "Received: Result produced\n"
     ]
    }
   ],
   "source": [
    "import asyncio\n",
    "\n",
    "async def produce(future):\n",
    "    print(\"Producing result...\")\n",
    "    await asyncio.sleep(1)\n",
    "    future.set_result(\"Result produced\")\n",
    "\n",
    "async def consume(future):\n",
    "    print(\"Waiting for result...\")\n",
    "    result = await future\n",
    "    print(f\"Received: {result}\")\n",
    "\n",
    "async def main():\n",
    "    future = asyncio.Future()\n",
    "    \n",
    "    producer = asyncio.create_task(produce(future))\n",
    "    consumer = asyncio.create_task(consume(future))\n",
    "    \n",
    "    await producer\n",
    "    await consumer\n",
    "\n",
    "# Run the event loop\n",
    "if __name__ == '__main__':\n",
    "    asyncio.run(main())\n"
   ]
  },
  {
   "cell_type": "markdown",
   "id": "bca59e1e-4388-4959-87c6-c7a5380d163f",
   "metadata": {},
   "source": [
    "#### Example using `asyncio.Lock` for Synchronization\n"
   ]
  },
  {
   "cell_type": "code",
   "execution_count": 10,
   "id": "384e2af7-fea7-41b7-8e17-5775005a3eb9",
   "metadata": {},
   "outputs": [
    {
     "name": "stdout",
     "output_type": "stream",
     "text": [
      "Task 1 entered critical section\n",
      "Task 1 leaving critical section\n",
      "Task 2 entered critical section\n",
      "Task 2 leaving critical section\n",
      "Task 3 entered critical section\n",
      "Task 3 leaving critical section\n"
     ]
    }
   ],
   "source": [
    "import asyncio\n",
    "\n",
    "async def critical_section(lock, name):\n",
    "    async with lock:\n",
    "        print(f\"{name} entered critical section\")\n",
    "        await asyncio.sleep(1)\n",
    "        print(f\"{name} leaving critical section\")\n",
    "\n",
    "async def main():\n",
    "    lock = asyncio.Lock()\n",
    "    \n",
    "    # Create multiple tasks that use the lock\n",
    "    tasks = [\n",
    "        asyncio.create_task(critical_section(lock, \"Task 1\")),\n",
    "        asyncio.create_task(critical_section(lock, \"Task 2\")),\n",
    "        asyncio.create_task(critical_section(lock, \"Task 3\")),\n",
    "    ]\n",
    "    \n",
    "    # Wait for all tasks to complete\n",
    "    await asyncio.gather(*tasks)\n",
    "\n",
    "# Run the event loop\n",
    "if __name__ == '__main__':\n",
    "    asyncio.run(main())\n"
   ]
  },
  {
   "cell_type": "code",
   "execution_count": null,
   "id": "f50b6be8-909a-4465-8816-8c3d1777a1a6",
   "metadata": {},
   "outputs": [],
   "source": []
  }
 ],
 "metadata": {
  "kernelspec": {
   "display_name": "Python 3 (ipykernel)",
   "language": "python",
   "name": "python3"
  },
  "language_info": {
   "codemirror_mode": {
    "name": "ipython",
    "version": 3
   },
   "file_extension": ".py",
   "mimetype": "text/x-python",
   "name": "python",
   "nbconvert_exporter": "python",
   "pygments_lexer": "ipython3",
   "version": "3.11.7"
  }
 },
 "nbformat": 4,
 "nbformat_minor": 5
}
